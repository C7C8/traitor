{
 "cells": [
  {
   "cell_type": "markdown",
   "source": [
    "# Dataset exploration\n",
    "\n",
    "## Graphing a stock"
   ],
   "metadata": {
    "collapsed": false,
    "pycharm": {
     "name": "#%% md\n"
    }
   }
  },
  {
   "cell_type": "code",
   "execution_count": 12,
   "outputs": [
    {
     "name": "stdout",
     "output_type": "stream",
     "text": [
      "Retrieved data on 6987 symbols, from A to ZYXI\n",
      "Showing graph for AMZN\n"
     ]
    },
    {
     "data": {
      "text/plain": "Text(0.5, 1.0, 'Daily closing price for AMZN')"
     },
     "execution_count": 12,
     "metadata": {},
     "output_type": "execute_result"
    },
    {
     "data": {
      "text/plain": "<Figure size 360x360 with 1 Axes>",
      "image/png": "[encoded data removed]"
     },
     "metadata": {},
     "output_type": "display_data"
    }
   ],
   "source": [
    "from typing import Dict, List, Tuple\n",
    "\n",
    "import numpy as np\n",
    "import seaborn as sns\n",
    "from alpaca_trade_api.rest import TimeFrame\n",
    "from matplotlib import pyplot as plt\n",
    "from scipy.stats import zscore\n",
    "\n",
    "from lmbda.data.store.PandasBarsDataStore import PandasBarsDataStore\n",
    "\n",
    "sns.set_style(\"darkgrid\")\n",
    "sns.color_palette(\"crest\", as_cmap=True)\n",
    "\n",
    "store = PandasBarsDataStore(timeframe=TimeFrame.Day, data_dir=\"../../data/history/daily\")\n",
    "symbols = sorted(list(store.symbols()))\n",
    "\n",
    "symbol = \"AMZN\" # random.choice(symbols)\n",
    "print(f\"Retrieved data on {len(symbols)} symbols, from {symbols[0]} to {symbols[-1]}\")\n",
    "print(f\"Showing graph for {symbol}\")\n",
    "df = store[symbol]\n",
    "\n",
    "df[\"close\"] = df[\"close\"].rolling(3).mean()\n",
    "ax = sns.relplot(x=df.index, y=\"close\", kind=\"line\", data=df)\n",
    "plt.title(f\"Daily closing price for {symbol}\")"
   ],
   "metadata": {
    "collapsed": false,
    "pycharm": {
     "name": "#%%\n"
    }
   }
  },
  {
   "cell_type": "markdown",
   "source": [
    "## Edge Detection\n",
    "This is an algorithmic approach to a constant fraction discriminator, which works by dividing a signal in two, delaying one part\n",
    "by the edge width, inverting the other, adding them together, and watching for zero crossing points. In this case we use\n",
    "a pre-configured edge width on a stock's close.\n",
    "\n",
    "![Constant fraction discriminator diagram](https://upload.wikimedia.org/wikipedia/commons/d/d7/CFD_Diagram1.jpg)\n",
    "\n",
    "The result of the CFD function will be another dataframe that maps a percent change to a series of closing prices,\n",
    "including back history if desired. This function tries to conserve memory when possible by freeing old dataframes,\n",
    "as a cost-saving measure for if/when it gets deployed to a lambda."
   ],
   "metadata": {
    "collapsed": false,
    "pycharm": {
     "name": "#%% md\n"
    }
   }
  },
  {
   "cell_type": "code",
   "execution_count": 13,
   "outputs": [],
   "source": [
    "from datetime import timedelta\n",
    "import pandas as pd\n",
    "\n",
    "def perform_cfd(df: pd.DataFrame,\n",
    "                                             edge_width: timedelta,\n",
    "                                             back_history: int=0,\n",
    "                                             pct_change_threshold=0.05,\n",
    "                                             outlier_zscore_threshold=3.0\n",
    "                                             ) -> List[Tuple[float, List[float]]]:\n",
    "    \"\"\"\n",
    "    Perform constant fraction discrimination to find rising & falling edges\n",
    "    :param df: Dataframe of stock closing prices\n",
    "    :param edge_width: Edge width to consider when doing constant fraction discrimination\n",
    "    :param back_history: Days of back-history to include in the returned datafraem\n",
    "    :param pct_change_threshold: Absolute percent change required to be considered a viable edge\n",
    "    :param outlier_zscore_threshold: Z-score threshold for filtering outliers\n",
    "    :return: A dataframe mapping percent changes to days of history leading up to them.\"\"\"\n",
    "\n",
    "    cfd = df[\"close\"]\\\n",
    "        .to_frame()\\\n",
    "        .rename({\"close\": \"delayed\"}, axis=1)\\\n",
    "        .shift(freq=edge_width)\\\n",
    "        .join(-df[\"close\"]\n",
    "              .to_frame()\n",
    "              .rename({\"close\": \"inverse\"}, axis=1), on=\"timestamp\", how=\"inner\")\\\n",
    "        .dropna(axis=0)\n",
    "\n",
    "    cfd_results = cfd[\"delayed\"] + cfd[\"inverse\"]\n",
    "    crossings = np.asarray(np.where(np.diff(np.sign(cfd_results))))[0]\n",
    "    del cfd\n",
    "    del cfd_results\n",
    "\n",
    "    df_deltas = pd.DataFrame({\n",
    "        \"idx\": crossings,\n",
    "        \"start\": df.iloc[crossings][\"close\"].array,\n",
    "        \"end\": df.iloc[crossings + 1][\"close\"].array\n",
    "    }, index=df.iloc[crossings].index).dropna().iloc[1:]\n",
    "    del crossings\n",
    "\n",
    "    df_deltas[\"diff\"] = df_deltas.start - df_deltas.end\n",
    "    df_deltas[\"pct_diff\"] = 100.0 * df_deltas[\"diff\"] / df_deltas.start\n",
    "    df_deltas = df_deltas[(np.abs(zscore(df_deltas.pct_diff)) < outlier_zscore_threshold) & (df_deltas.pct_diff.abs() >= pct_change_threshold)]\n",
    "\n",
    "    trailing_histories: List[Tuple[float, List[float]]] = []\n",
    "    for index, row in df_deltas.iterrows():\n",
    "        if row.idx - 1 - back_history < 0 or row.idx + 1 > len(df):\n",
    "            continue\n",
    "        slice_start = int(row.idx - 1 - back_history)\n",
    "        slice_end = int(row.idx) + 1\n",
    "        trailing_histories.append((row.pct_diff, list(df.iloc[slice_start:slice_end][\"close\"].array)))\n",
    "    return list(filter(lambda history: float('NaN') not in history[1], trailing_histories))\n",
    "    # return pd.DataFrame(trailing_histories).dropna(axis=1)"
   ],
   "metadata": {
    "collapsed": false,
    "pycharm": {
     "name": "#%%\n"
    }
   }
  },
  {
   "cell_type": "markdown",
   "source": [
    "## Mapping *All* Symbols to CFD Tables\n",
    "\n",
    "This is a big one -- for every symbol in the store, generate a CFD table with 30 days of back history."
   ],
   "metadata": {
    "collapsed": false,
    "pycharm": {
     "name": "#%% md\n"
    }
   }
  },
  {
   "cell_type": "code",
   "execution_count": null,
   "outputs": [
    {
     "name": "stdout",
     "output_type": "stream",
     "text": [
      "Generating CFD tables w/back-history for 6987 symbols...\n",
      "Processing A (0.00% complete)\n",
      "Processing ADC (1.43% complete)\n",
      "Processing AGGRU (2.86% complete)\n",
      "Processing ALNY (4.29% complete)\n",
      "Processing ANVS (5.72% complete)\n",
      "Processing ARRY (7.16% complete)\n",
      "Processing AU (8.59% complete)\n",
      "Processing BATL (10.02% complete)\n",
      "Processing BGH (11.45% complete)\n",
      "Processing BMA (12.88% complete)\n",
      "Processing BSIG (14.31% complete)\n",
      "Processing CAMT (15.74% complete)\n",
      "Processing CEE (17.17% complete)\n",
      "Processing CHSCM (18.61% complete)\n",
      "Processing CMII (20.04% complete)\n",
      "Processing COVA (21.47% complete)\n",
      "Processing CSTA (22.90% complete)\n",
      "Processing CYCCP (24.33% complete)\n",
      "Processing DHF (25.76% complete)\n",
      "Processing DSWL (27.19% complete)\n",
      "Processing EFL (28.62% complete)\n"
     ]
    }
   ],
   "source": [
    "print(f\"Generating CFD tables w/back-history for {len(symbols)} symbols...\")\n",
    "cfd_tables: Dict[str, List[Tuple[str, List[float]]]] = {}\n",
    "# data = store[\"AAL\"]\n",
    "# perform_cfd(data, edge_width=timedelta(3), back_history=30, pct_change_threshold=1.0)\n",
    "for i, symbol in enumerate(symbols):\n",
    "    if i % 100 == 0:\n",
    "\t    print(f\"Processing {symbol} ({100 * i / len(symbols):.2f}% complete)\")\n",
    "    cfd_tables[symbol] = perform_cfd(store[symbol], edge_width=timedelta(3), back_history=30, pct_change_threshold=1.0)\n",
    "print(\"Done!\")"
   ],
   "metadata": {
    "collapsed": false,
    "pycharm": {
     "name": "#%%\n",
     "is_executing": true
    }
   }
  },
  {
   "cell_type": "markdown",
   "source": [
    "Finally, we'll save the data for future use."
   ],
   "metadata": {
    "collapsed": false,
    "pycharm": {
     "name": "#%% md\n"
    }
   }
  },
  {
   "cell_type": "code",
   "execution_count": null,
   "outputs": [],
   "source": [
    "import pickle\n",
    "\n",
    "with open(\"../../data/cfds.pkl\", \"wb\") as file:\n",
    "    pickle.dump(cfd_tables, file)"
   ],
   "metadata": {
    "collapsed": false,
    "pycharm": {
     "name": "#%%\n",
     "is_executing": true
    }
   }
  }
 ],
 "metadata": {
  "kernelspec": {
   "display_name": "Python 3",
   "language": "python",
   "name": "python3"
  },
  "language_info": {
   "codemirror_mode": {
    "name": "ipython",
    "version": 2
   },
   "file_extension": ".py",
   "mimetype": "text/x-python",
   "name": "python",
   "nbconvert_exporter": "python",
   "pygments_lexer": "ipython2",
   "version": "2.7.6"
  }
 },
 "nbformat": 4,
 "nbformat_minor": 0
}